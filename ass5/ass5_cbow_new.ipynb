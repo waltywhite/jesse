{
 "cells": [
  {
   "cell_type": "code",
   "execution_count": 1,
   "metadata": {},
   "outputs": [
    {
     "data": {
      "text/plain": [
       "\"nltk.download('punkt')\""
      ]
     },
     "execution_count": 1,
     "metadata": {},
     "output_type": "execute_result"
    }
   ],
   "source": [
    "import nltk\n",
    "\"nltk.download('punkt')\"\n"
   ]
  },
  {
   "cell_type": "code",
   "execution_count": 2,
   "metadata": {},
   "outputs": [],
   "source": [
    "text = \"The 2014 FIFA World Cup was the 20th FIFA World Cup, the quadrennial world championship for men's national football teams organised by FIFA.\"\n"
   ]
  },
  {
   "cell_type": "code",
   "execution_count": 3,
   "metadata": {},
   "outputs": [],
   "source": [
    "text = text.lower()\n"
   ]
  },
  {
   "cell_type": "code",
   "execution_count": 4,
   "metadata": {},
   "outputs": [],
   "source": [
    "from nltk.tokenize import word_tokenize\n"
   ]
  },
  {
   "cell_type": "code",
   "execution_count": 5,
   "metadata": {},
   "outputs": [],
   "source": [
    "result = word_tokenize(text)"
   ]
  },
  {
   "cell_type": "code",
   "execution_count": 6,
   "metadata": {},
   "outputs": [
    {
     "name": "stdout",
     "output_type": "stream",
     "text": [
      "['the', '2014', 'fifa', 'world', 'cup', 'was', 'the', '20th', 'fifa', 'world', 'cup', ',', 'the', 'quadrennial', 'world', 'championship', 'for', 'men', \"'s\", 'national', 'football', 'teams', 'organised', 'by', 'fifa', '.']\n"
     ]
    }
   ],
   "source": [
    "print(result)\n"
   ]
  },
  {
   "cell_type": "code",
   "execution_count": 7,
   "metadata": {},
   "outputs": [],
   "source": [
    "count=0\n"
   ]
  },
  {
   "cell_type": "code",
   "execution_count": 8,
   "metadata": {},
   "outputs": [
    {
     "name": "stdout",
     "output_type": "stream",
     "text": [
      "the 3\n",
      "2014 1\n",
      "fifa 3\n",
      "world 3\n",
      "cup 2\n",
      "was 1\n",
      "the 3\n",
      "20th 1\n",
      "fifa 3\n",
      "world 3\n",
      "cup 2\n",
      ", 1\n",
      "the 3\n",
      "quadrennial 1\n",
      "world 3\n",
      "championship 1\n",
      "for 1\n",
      "men 1\n",
      "'s 1\n",
      "national 1\n",
      "football 1\n",
      "teams 1\n",
      "organised 1\n",
      "by 1\n",
      "fifa 3\n",
      ". 1\n"
     ]
    }
   ],
   "source": [
    "for i in range(0, len(result)):\n",
    "    for j in range(0, len(result)):\n",
    "        if(result[i]==result[j]):\n",
    "            count = count + 1\n",
    "    \n",
    "    print(result[i],count)\n",
    "    count = 0"
   ]
  },
  {
   "cell_type": "code",
   "execution_count": 9,
   "metadata": {},
   "outputs": [
    {
     "name": "stdout",
     "output_type": "stream",
     "text": [
      "the 3\n",
      "fifa 3\n",
      "world 3\n",
      "cup 2\n",
      "the 3\n",
      "fifa 3\n",
      "world 3\n",
      "cup 2\n",
      "the 3\n",
      "world 3\n",
      "fifa 3\n"
     ]
    }
   ],
   "source": [
    "for i in range(0, len(result)):\n",
    "    for j in range(0, len(result)):\n",
    "        if(result[i]==result[j]):\n",
    "            count = count + 1\n",
    "    \n",
    "    if(count>=2):\n",
    "        print(result[i], count)\n",
    "        count=0\n",
    "    else:\n",
    "        count=0\n"
   ]
  },
  {
   "cell_type": "code",
   "execution_count": 10,
   "metadata": {},
   "outputs": [],
   "source": [
    "dict_ = {}\n"
   ]
  },
  {
   "cell_type": "code",
   "execution_count": 11,
   "metadata": {},
   "outputs": [],
   "source": [
    "for i in range(0, len(result)):\n",
    "    for j in range(0, len(result)):\n",
    "        if(result[i]==result[j]):\n",
    "            count = count + 1\n",
    "    \n",
    "    if(count>=2):\n",
    "        dict_[result[i]]=count\n",
    "        count=0\n",
    "    else:\n",
    "        count=0\n"
   ]
  },
  {
   "cell_type": "code",
   "execution_count": 12,
   "metadata": {},
   "outputs": [
    {
     "data": {
      "text/plain": [
       "{'the': 3, 'fifa': 3, 'world': 3, 'cup': 2}"
      ]
     },
     "execution_count": 12,
     "metadata": {},
     "output_type": "execute_result"
    }
   ],
   "source": [
    "dict_"
   ]
  },
  {
   "cell_type": "code",
   "execution_count": 13,
   "metadata": {},
   "outputs": [],
   "source": [
    "final = []\n"
   ]
  },
  {
   "cell_type": "code",
   "execution_count": 14,
   "metadata": {},
   "outputs": [],
   "source": [
    "flag = 0\n"
   ]
  },
  {
   "cell_type": "code",
   "execution_count": 15,
   "metadata": {},
   "outputs": [
    {
     "data": {
      "text/plain": [
       "[1, 0, 1, 1, 1, 0, 1, 0, 1, 1, 1, 0, 1, 0, 1, 0, 0, 0, 0, 0, 0, 0, 0, 0, 1, 0]"
      ]
     },
     "execution_count": 15,
     "metadata": {},
     "output_type": "execute_result"
    }
   ],
   "source": [
    "for i in range(0,len(result)):\n",
    "    flag=0\n",
    "    for j in dict_:\n",
    "        if(result[i]==j):\n",
    "            final.append(1)\n",
    "            flag = 1\n",
    "            break\n",
    "        else:\n",
    "            continue\n",
    "    if(flag==0):\n",
    "        final.append(0)\n",
    "final"
   ]
  },
  {
   "cell_type": "code",
   "execution_count": null,
   "metadata": {},
   "outputs": [],
   "source": []
  }
 ],
 "metadata": {
  "kernelspec": {
   "display_name": "Python 3",
   "language": "python",
   "name": "python3"
  },
  "language_info": {
   "codemirror_mode": {
    "name": "ipython",
    "version": 3
   },
   "file_extension": ".py",
   "mimetype": "text/x-python",
   "name": "python",
   "nbconvert_exporter": "python",
   "pygments_lexer": "ipython3",
   "version": "3.7.6"
  }
 },
 "nbformat": 4,
 "nbformat_minor": 4
}
